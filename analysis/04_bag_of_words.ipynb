{
 "cells": [
  {
   "cell_type": "markdown",
   "metadata": {},
   "source": [
    "# Notebook 4: Topic Modeling, Parts of Speech Analysis"
   ]
  },
  {
   "cell_type": "markdown",
   "metadata": {},
   "source": [
    "## Introduction"
   ]
  },
  {
   "cell_type": "markdown",
   "metadata": {},
   "source": [
    "This notebook takes the speech transcripts that were scraped and cleaned in Notebooks 1-3, and simplifies each transcript into a bag-of-words, to use for topic modeling and parts of speech analysis."
   ]
  },
  {
   "cell_type": "code",
   "execution_count": 1,
   "metadata": {
    "ExecuteTime": {
     "end_time": "2020-07-22T17:04:18.400902Z",
     "start_time": "2020-07-22T17:04:15.485709Z"
    }
   },
   "outputs": [],
   "source": [
    "import pickle\n",
    "import pandas as pd\n",
    "import numpy as np\n",
    "import re\n",
    "import string\n",
    "from pprint import pprint\n",
    "import matplotlib.pyplot as plt\n",
    "\n",
    "import spacy\n",
    "from spacy.symbols import amod\n",
    "\n",
    "from sklearn.feature_extraction import text\n",
    "from sklearn.feature_extraction.text import CountVectorizer\n",
    "from sklearn.decomposition import NMF\n",
    "\n",
    "from collections import Counter\n",
    "\n",
    "#To use spaCy, I need to download and reference a language model.\n",
    "sp = spacy.load('/opt/anaconda3/envs/metis/lib/python3.7/site-packages/en_core_web_sm/en_core_web_sm-2.2.5')"
   ]
  },
  {
   "cell_type": "code",
   "execution_count": 2,
   "metadata": {
    "ExecuteTime": {
     "end_time": "2020-07-22T17:04:19.143796Z",
     "start_time": "2020-07-22T17:04:19.101234Z"
    }
   },
   "outputs": [],
   "source": [
    "with open('../data/combined.pickle','rb') as read_file:\n",
    "    ny = pickle.load(read_file)"
   ]
  },
  {
   "cell_type": "markdown",
   "metadata": {},
   "source": [
    "## Data Pre-Processing"
   ]
  },
  {
   "cell_type": "markdown",
   "metadata": {},
   "source": [
    "### Additional Data Cleaning"
   ]
  },
  {
   "cell_type": "code",
   "execution_count": 3,
   "metadata": {
    "ExecuteTime": {
     "end_time": "2020-07-22T17:04:20.094491Z",
     "start_time": "2020-07-22T17:04:20.090843Z"
    }
   },
   "outputs": [],
   "source": [
    "alphanumeric = lambda x: re.sub('\\w*\\d\\w*', '', x)\n",
    "punc = lambda x: re.sub('[%s]' % re.escape(string.punctuation), ' ', x)\n",
    "remove_space = lambda x: x.replace('  ', ' ')"
   ]
  },
  {
   "cell_type": "code",
   "execution_count": 4,
   "metadata": {
    "ExecuteTime": {
     "end_time": "2020-07-22T17:07:01.419506Z",
     "start_time": "2020-07-22T17:04:20.976460Z"
    }
   },
   "outputs": [],
   "source": [
    "ny['for_spacy'] = (ny['monologue']\n",
    "                   .map(alphanumeric)\n",
    "                   .map(punc)\n",
    "                   .map(remove_space))\n",
    "ny['spacy_monologue'] = ny['for_spacy'].map(lambda x: sp(x))"
   ]
  },
  {
   "cell_type": "code",
   "execution_count": 40,
   "metadata": {
    "ExecuteTime": {
     "end_time": "2020-07-22T18:06:56.181580Z",
     "start_time": "2020-07-22T18:06:56.175667Z"
    }
   },
   "outputs": [
    {
     "data": {
      "text/plain": [
       "speaker                                                        cuomo\n",
       "date                                             2020-04-30 00:00:00\n",
       "link               https://www.governor.ny.gov/news/audio-rush-tr...\n",
       "text               Susan Richard: Are you with us, Governor?Gover...\n",
       "monologue          yes i am. how are you susan?susan yes i am. it...\n",
       "for_spacy          yes i am how are you susan susan yes i am its ...\n",
       "spacy_monologue    (yes, i, am, how, are, you, susan, susan, yes,...\n",
       "lemmatized         yes i be how be you susan susan yes i be its a...\n",
       "Name: 21, dtype: object"
      ]
     },
     "execution_count": 40,
     "metadata": {},
     "output_type": "execute_result"
    }
   ],
   "source": [
    "ny.iloc[21, :]"
   ]
  },
  {
   "cell_type": "markdown",
   "metadata": {},
   "source": [
    "### Lemmatization"
   ]
  },
  {
   "cell_type": "code",
   "execution_count": 10,
   "metadata": {
    "ExecuteTime": {
     "end_time": "2020-07-22T17:37:25.211043Z",
     "start_time": "2020-07-22T17:37:24.266716Z"
    }
   },
   "outputs": [],
   "source": [
    "ny['lemmatized'] = (ny['spacy_monologue']\n",
    "                    .map(lambda x: [' '.join(word.lemma_ \n",
    "                                             if word.lemma_ != '-PRON-' \n",
    "                                             else word.text \n",
    "                                             for word in x)][0]))"
   ]
  },
  {
   "cell_type": "markdown",
   "metadata": {},
   "source": [
    "### Count Vectorization"
   ]
  },
  {
   "cell_type": "markdown",
   "metadata": {},
   "source": [
    "I had to add several names to the stop words list because several of the transcripts had the names of interviewers."
   ]
  },
  {
   "cell_type": "code",
   "execution_count": 11,
   "metadata": {
    "ExecuteTime": {
     "end_time": "2020-07-22T17:37:25.998968Z",
     "start_time": "2020-07-22T17:37:25.995365Z"
    }
   },
   "outputs": [],
   "source": [
    "my_stop_words = (text\n",
    "                 .ENGLISH_STOP_WORDS\n",
    "                 .union(['lehrer', 'brian', 'darden', 'moderator', 'alan', \n",
    "                         'howard', 'wolf', 'blitzer', 'errol', 'louis', \n",
    "                         'alisyn', 'chris', 'camerota', 'dan', 'mannarino',\n",
    "                         'john', 'berman', 'savannah', 'guthrie', 'hoda']))"
   ]
  },
  {
   "cell_type": "code",
   "execution_count": 12,
   "metadata": {
    "ExecuteTime": {
     "end_time": "2020-07-22T17:37:27.180473Z",
     "start_time": "2020-07-22T17:37:26.578964Z"
    }
   },
   "outputs": [],
   "source": [
    "# Setting max_df to 0.5 and min_df = 2 because these provided the best topics\n",
    "cv1 = CountVectorizer(stop_words = my_stop_words, max_df = 0.5, min_df=2)\n",
    "docterm_matrix = cv1.fit_transform(ny.loc[:, 'lemmatized'])"
   ]
  },
  {
   "cell_type": "code",
   "execution_count": 13,
   "metadata": {
    "ExecuteTime": {
     "end_time": "2020-07-22T17:37:27.185038Z",
     "start_time": "2020-07-22T17:37:27.182090Z"
    }
   },
   "outputs": [],
   "source": [
    "doc_label = ['Document' + str(t) for t in range(len(ny.loc[:, 'lemmatized']))]"
   ]
  },
  {
   "cell_type": "markdown",
   "metadata": {},
   "source": [
    "This creates a table with documents in the rows, and words (or terms) in the columns. The values refer to the number of times the term appears in the document."
   ]
  },
  {
   "cell_type": "code",
   "execution_count": 14,
   "metadata": {
    "ExecuteTime": {
     "end_time": "2020-07-22T17:37:29.369775Z",
     "start_time": "2020-07-22T17:37:29.336748Z"
    }
   },
   "outputs": [
    {
     "data": {
      "text/html": [
       "<div>\n",
       "<style scoped>\n",
       "    .dataframe tbody tr th:only-of-type {\n",
       "        vertical-align: middle;\n",
       "    }\n",
       "\n",
       "    .dataframe tbody tr th {\n",
       "        vertical-align: top;\n",
       "    }\n",
       "\n",
       "    .dataframe thead th {\n",
       "        text-align: right;\n",
       "    }\n",
       "</style>\n",
       "<table border=\"1\" class=\"dataframe\">\n",
       "  <thead>\n",
       "    <tr style=\"text-align: right;\">\n",
       "      <th></th>\n",
       "      <th>bit</th>\n",
       "      <th>bite</th>\n",
       "      <th>bitta</th>\n",
       "      <th>bitter</th>\n",
       "      <th>bizarre</th>\n",
       "      <th>black</th>\n",
       "      <th>blackout</th>\n",
       "      <th>blame</th>\n",
       "      <th>blank</th>\n",
       "      <th>blanket</th>\n",
       "      <th>blare</th>\n",
       "      <th>blasio</th>\n",
       "      <th>bleach</th>\n",
       "      <th>blend</th>\n",
       "      <th>bless</th>\n",
       "      <th>blessed</th>\n",
       "      <th>blessing</th>\n",
       "      <th>blight</th>\n",
       "      <th>blip</th>\n",
       "      <th>blizzard</th>\n",
       "    </tr>\n",
       "  </thead>\n",
       "  <tbody>\n",
       "    <tr>\n",
       "      <th>Document0</th>\n",
       "      <td>0</td>\n",
       "      <td>0</td>\n",
       "      <td>0</td>\n",
       "      <td>0</td>\n",
       "      <td>0</td>\n",
       "      <td>0</td>\n",
       "      <td>0</td>\n",
       "      <td>0</td>\n",
       "      <td>0</td>\n",
       "      <td>0</td>\n",
       "      <td>0</td>\n",
       "      <td>0</td>\n",
       "      <td>0</td>\n",
       "      <td>0</td>\n",
       "      <td>0</td>\n",
       "      <td>0</td>\n",
       "      <td>0</td>\n",
       "      <td>0</td>\n",
       "      <td>0</td>\n",
       "      <td>0</td>\n",
       "    </tr>\n",
       "    <tr>\n",
       "      <th>Document1</th>\n",
       "      <td>0</td>\n",
       "      <td>0</td>\n",
       "      <td>0</td>\n",
       "      <td>0</td>\n",
       "      <td>0</td>\n",
       "      <td>0</td>\n",
       "      <td>0</td>\n",
       "      <td>0</td>\n",
       "      <td>0</td>\n",
       "      <td>0</td>\n",
       "      <td>0</td>\n",
       "      <td>0</td>\n",
       "      <td>0</td>\n",
       "      <td>0</td>\n",
       "      <td>0</td>\n",
       "      <td>0</td>\n",
       "      <td>0</td>\n",
       "      <td>0</td>\n",
       "      <td>0</td>\n",
       "      <td>0</td>\n",
       "    </tr>\n",
       "    <tr>\n",
       "      <th>Document2</th>\n",
       "      <td>0</td>\n",
       "      <td>0</td>\n",
       "      <td>0</td>\n",
       "      <td>0</td>\n",
       "      <td>0</td>\n",
       "      <td>0</td>\n",
       "      <td>0</td>\n",
       "      <td>0</td>\n",
       "      <td>0</td>\n",
       "      <td>0</td>\n",
       "      <td>0</td>\n",
       "      <td>0</td>\n",
       "      <td>0</td>\n",
       "      <td>0</td>\n",
       "      <td>0</td>\n",
       "      <td>0</td>\n",
       "      <td>0</td>\n",
       "      <td>0</td>\n",
       "      <td>0</td>\n",
       "      <td>0</td>\n",
       "    </tr>\n",
       "    <tr>\n",
       "      <th>Document3</th>\n",
       "      <td>1</td>\n",
       "      <td>0</td>\n",
       "      <td>0</td>\n",
       "      <td>0</td>\n",
       "      <td>0</td>\n",
       "      <td>0</td>\n",
       "      <td>0</td>\n",
       "      <td>0</td>\n",
       "      <td>0</td>\n",
       "      <td>0</td>\n",
       "      <td>0</td>\n",
       "      <td>0</td>\n",
       "      <td>0</td>\n",
       "      <td>0</td>\n",
       "      <td>0</td>\n",
       "      <td>0</td>\n",
       "      <td>0</td>\n",
       "      <td>0</td>\n",
       "      <td>0</td>\n",
       "      <td>0</td>\n",
       "    </tr>\n",
       "    <tr>\n",
       "      <th>Document4</th>\n",
       "      <td>0</td>\n",
       "      <td>0</td>\n",
       "      <td>0</td>\n",
       "      <td>0</td>\n",
       "      <td>0</td>\n",
       "      <td>0</td>\n",
       "      <td>0</td>\n",
       "      <td>0</td>\n",
       "      <td>0</td>\n",
       "      <td>0</td>\n",
       "      <td>0</td>\n",
       "      <td>0</td>\n",
       "      <td>0</td>\n",
       "      <td>0</td>\n",
       "      <td>0</td>\n",
       "      <td>0</td>\n",
       "      <td>0</td>\n",
       "      <td>0</td>\n",
       "      <td>0</td>\n",
       "      <td>0</td>\n",
       "    </tr>\n",
       "    <tr>\n",
       "      <th>Document5</th>\n",
       "      <td>0</td>\n",
       "      <td>0</td>\n",
       "      <td>0</td>\n",
       "      <td>0</td>\n",
       "      <td>0</td>\n",
       "      <td>0</td>\n",
       "      <td>0</td>\n",
       "      <td>0</td>\n",
       "      <td>0</td>\n",
       "      <td>0</td>\n",
       "      <td>0</td>\n",
       "      <td>1</td>\n",
       "      <td>0</td>\n",
       "      <td>0</td>\n",
       "      <td>0</td>\n",
       "      <td>0</td>\n",
       "      <td>0</td>\n",
       "      <td>0</td>\n",
       "      <td>0</td>\n",
       "      <td>0</td>\n",
       "    </tr>\n",
       "    <tr>\n",
       "      <th>Document6</th>\n",
       "      <td>0</td>\n",
       "      <td>0</td>\n",
       "      <td>0</td>\n",
       "      <td>0</td>\n",
       "      <td>0</td>\n",
       "      <td>0</td>\n",
       "      <td>0</td>\n",
       "      <td>0</td>\n",
       "      <td>0</td>\n",
       "      <td>0</td>\n",
       "      <td>0</td>\n",
       "      <td>0</td>\n",
       "      <td>0</td>\n",
       "      <td>0</td>\n",
       "      <td>0</td>\n",
       "      <td>0</td>\n",
       "      <td>0</td>\n",
       "      <td>0</td>\n",
       "      <td>0</td>\n",
       "      <td>0</td>\n",
       "    </tr>\n",
       "    <tr>\n",
       "      <th>Document7</th>\n",
       "      <td>0</td>\n",
       "      <td>0</td>\n",
       "      <td>0</td>\n",
       "      <td>0</td>\n",
       "      <td>0</td>\n",
       "      <td>0</td>\n",
       "      <td>0</td>\n",
       "      <td>0</td>\n",
       "      <td>0</td>\n",
       "      <td>0</td>\n",
       "      <td>0</td>\n",
       "      <td>2</td>\n",
       "      <td>0</td>\n",
       "      <td>0</td>\n",
       "      <td>0</td>\n",
       "      <td>0</td>\n",
       "      <td>0</td>\n",
       "      <td>0</td>\n",
       "      <td>0</td>\n",
       "      <td>0</td>\n",
       "    </tr>\n",
       "    <tr>\n",
       "      <th>Document8</th>\n",
       "      <td>1</td>\n",
       "      <td>0</td>\n",
       "      <td>0</td>\n",
       "      <td>0</td>\n",
       "      <td>0</td>\n",
       "      <td>0</td>\n",
       "      <td>0</td>\n",
       "      <td>4</td>\n",
       "      <td>0</td>\n",
       "      <td>0</td>\n",
       "      <td>0</td>\n",
       "      <td>0</td>\n",
       "      <td>0</td>\n",
       "      <td>0</td>\n",
       "      <td>0</td>\n",
       "      <td>0</td>\n",
       "      <td>0</td>\n",
       "      <td>0</td>\n",
       "      <td>0</td>\n",
       "      <td>0</td>\n",
       "    </tr>\n",
       "    <tr>\n",
       "      <th>Document9</th>\n",
       "      <td>0</td>\n",
       "      <td>0</td>\n",
       "      <td>0</td>\n",
       "      <td>0</td>\n",
       "      <td>0</td>\n",
       "      <td>0</td>\n",
       "      <td>0</td>\n",
       "      <td>1</td>\n",
       "      <td>0</td>\n",
       "      <td>0</td>\n",
       "      <td>0</td>\n",
       "      <td>0</td>\n",
       "      <td>0</td>\n",
       "      <td>0</td>\n",
       "      <td>0</td>\n",
       "      <td>0</td>\n",
       "      <td>0</td>\n",
       "      <td>0</td>\n",
       "      <td>0</td>\n",
       "      <td>0</td>\n",
       "    </tr>\n",
       "  </tbody>\n",
       "</table>\n",
       "</div>"
      ],
      "text/plain": [
       "           bit  bite  bitta  bitter  bizarre  black  blackout  blame  blank  \\\n",
       "Document0    0     0      0       0        0      0         0      0      0   \n",
       "Document1    0     0      0       0        0      0         0      0      0   \n",
       "Document2    0     0      0       0        0      0         0      0      0   \n",
       "Document3    1     0      0       0        0      0         0      0      0   \n",
       "Document4    0     0      0       0        0      0         0      0      0   \n",
       "Document5    0     0      0       0        0      0         0      0      0   \n",
       "Document6    0     0      0       0        0      0         0      0      0   \n",
       "Document7    0     0      0       0        0      0         0      0      0   \n",
       "Document8    1     0      0       0        0      0         0      4      0   \n",
       "Document9    0     0      0       0        0      0         0      1      0   \n",
       "\n",
       "           blanket  blare  blasio  bleach  blend  bless  blessed  blessing  \\\n",
       "Document0        0      0       0       0      0      0        0         0   \n",
       "Document1        0      0       0       0      0      0        0         0   \n",
       "Document2        0      0       0       0      0      0        0         0   \n",
       "Document3        0      0       0       0      0      0        0         0   \n",
       "Document4        0      0       0       0      0      0        0         0   \n",
       "Document5        0      0       1       0      0      0        0         0   \n",
       "Document6        0      0       0       0      0      0        0         0   \n",
       "Document7        0      0       2       0      0      0        0         0   \n",
       "Document8        0      0       0       0      0      0        0         0   \n",
       "Document9        0      0       0       0      0      0        0         0   \n",
       "\n",
       "           blight  blip  blizzard  \n",
       "Document0       0     0         0  \n",
       "Document1       0     0         0  \n",
       "Document2       0     0         0  \n",
       "Document3       0     0         0  \n",
       "Document4       0     0         0  \n",
       "Document5       0     0         0  \n",
       "Document6       0     0         0  \n",
       "Document7       0     0         0  \n",
       "Document8       0     0         0  \n",
       "Document9       0     0         0  "
      ]
     },
     "execution_count": 14,
     "metadata": {},
     "output_type": "execute_result"
    }
   ],
   "source": [
    "pd.DataFrame(docterm_matrix.toarray(), index=doc_label, columns=cv1.get_feature_names()).iloc[:10, 630:650]"
   ]
  },
  {
   "cell_type": "markdown",
   "metadata": {},
   "source": [
    "## Topic Modeling"
   ]
  },
  {
   "cell_type": "markdown",
   "metadata": {},
   "source": [
    "### Using Non-Negative Matrix Factorization (NMF)"
   ]
  },
  {
   "cell_type": "markdown",
   "metadata": {},
   "source": [
    "The code below uses NMF for 12 topics, but I tried a variety of different hyperparameters (including setting max_df and min_df in count_vectorizer) before settling on 12, which provided the clearest, most distinct topics."
   ]
  },
  {
   "cell_type": "code",
   "execution_count": 22,
   "metadata": {
    "ExecuteTime": {
     "end_time": "2020-07-22T17:44:37.834359Z",
     "start_time": "2020-07-22T17:44:37.119449Z"
    }
   },
   "outputs": [],
   "source": [
    "nmf_cv = NMF(12)\n",
    "nmf_topics1 = nmf_cv.fit_transform(docterm_matrix)"
   ]
  },
  {
   "cell_type": "code",
   "execution_count": 23,
   "metadata": {
    "ExecuteTime": {
     "end_time": "2020-07-22T17:44:47.391912Z",
     "start_time": "2020-07-22T17:44:47.382289Z"
    }
   },
   "outputs": [],
   "source": [
    "topicword_cv1 = pd.DataFrame(nmf_cv.components_.round(3),\n",
    "                            index = ['topic0', 'topic1', 'topic2', 'topic3',\n",
    "                                     'topic4', 'topic5', 'topic6', 'topic7',\n",
    "                                     'topic8', 'topic9', 'topic10', 'topic11'],\n",
    "                            columns = cv1.get_feature_names()) "
   ]
  },
  {
   "cell_type": "markdown",
   "metadata": {},
   "source": [
    "This creates a dataframe with the twelve topics in the rows, and the terms in the columns. The values in the dataframe describe how the term relates to the topic, with higher values indicating a stronger relationship."
   ]
  },
  {
   "cell_type": "code",
   "execution_count": 24,
   "metadata": {
    "ExecuteTime": {
     "end_time": "2020-07-22T17:44:49.247741Z",
     "start_time": "2020-07-22T17:44:49.222941Z"
    }
   },
   "outputs": [
    {
     "data": {
      "text/html": [
       "<div>\n",
       "<style scoped>\n",
       "    .dataframe tbody tr th:only-of-type {\n",
       "        vertical-align: middle;\n",
       "    }\n",
       "\n",
       "    .dataframe tbody tr th {\n",
       "        vertical-align: top;\n",
       "    }\n",
       "\n",
       "    .dataframe thead th {\n",
       "        text-align: right;\n",
       "    }\n",
       "</style>\n",
       "<table border=\"1\" class=\"dataframe\">\n",
       "  <thead>\n",
       "    <tr style=\"text-align: right;\">\n",
       "      <th></th>\n",
       "      <th>discussion</th>\n",
       "      <th>disdainful</th>\n",
       "      <th>disease</th>\n",
       "      <th>disgust</th>\n",
       "      <th>disgusting</th>\n",
       "      <th>dish</th>\n",
       "      <th>disinfect</th>\n",
       "      <th>disinfectant</th>\n",
       "      <th>disinvestment</th>\n",
       "      <th>dislike</th>\n",
       "      <th>...</th>\n",
       "      <th>displacement</th>\n",
       "      <th>display</th>\n",
       "      <th>disposal</th>\n",
       "      <th>disproportionate</th>\n",
       "      <th>disproportionately</th>\n",
       "      <th>dispute</th>\n",
       "      <th>disqualify</th>\n",
       "      <th>disregard</th>\n",
       "      <th>disrespect</th>\n",
       "      <th>disrespectful</th>\n",
       "    </tr>\n",
       "  </thead>\n",
       "  <tbody>\n",
       "    <tr>\n",
       "      <th>topic0</th>\n",
       "      <td>0.232</td>\n",
       "      <td>0.004</td>\n",
       "      <td>6.028</td>\n",
       "      <td>0.000</td>\n",
       "      <td>0.019</td>\n",
       "      <td>0.000</td>\n",
       "      <td>0.000</td>\n",
       "      <td>0.000</td>\n",
       "      <td>0.029</td>\n",
       "      <td>0.000</td>\n",
       "      <td>...</td>\n",
       "      <td>0.000</td>\n",
       "      <td>0.082</td>\n",
       "      <td>0.000</td>\n",
       "      <td>0.069</td>\n",
       "      <td>0.038</td>\n",
       "      <td>0.001</td>\n",
       "      <td>0.000</td>\n",
       "      <td>0.000</td>\n",
       "      <td>0.000</td>\n",
       "      <td>0.000</td>\n",
       "    </tr>\n",
       "    <tr>\n",
       "      <th>topic1</th>\n",
       "      <td>0.180</td>\n",
       "      <td>0.000</td>\n",
       "      <td>0.065</td>\n",
       "      <td>0.015</td>\n",
       "      <td>0.007</td>\n",
       "      <td>0.011</td>\n",
       "      <td>0.484</td>\n",
       "      <td>0.010</td>\n",
       "      <td>0.000</td>\n",
       "      <td>0.001</td>\n",
       "      <td>...</td>\n",
       "      <td>0.000</td>\n",
       "      <td>0.000</td>\n",
       "      <td>0.000</td>\n",
       "      <td>0.023</td>\n",
       "      <td>0.070</td>\n",
       "      <td>0.016</td>\n",
       "      <td>0.012</td>\n",
       "      <td>0.009</td>\n",
       "      <td>0.004</td>\n",
       "      <td>0.032</td>\n",
       "    </tr>\n",
       "    <tr>\n",
       "      <th>topic2</th>\n",
       "      <td>0.088</td>\n",
       "      <td>0.000</td>\n",
       "      <td>0.509</td>\n",
       "      <td>0.014</td>\n",
       "      <td>0.001</td>\n",
       "      <td>0.000</td>\n",
       "      <td>0.000</td>\n",
       "      <td>0.000</td>\n",
       "      <td>0.000</td>\n",
       "      <td>0.000</td>\n",
       "      <td>...</td>\n",
       "      <td>0.001</td>\n",
       "      <td>0.000</td>\n",
       "      <td>0.000</td>\n",
       "      <td>0.004</td>\n",
       "      <td>0.000</td>\n",
       "      <td>0.015</td>\n",
       "      <td>0.000</td>\n",
       "      <td>0.000</td>\n",
       "      <td>0.000</td>\n",
       "      <td>0.044</td>\n",
       "    </tr>\n",
       "    <tr>\n",
       "      <th>topic3</th>\n",
       "      <td>0.178</td>\n",
       "      <td>0.000</td>\n",
       "      <td>3.368</td>\n",
       "      <td>0.000</td>\n",
       "      <td>0.000</td>\n",
       "      <td>0.000</td>\n",
       "      <td>0.000</td>\n",
       "      <td>0.010</td>\n",
       "      <td>0.000</td>\n",
       "      <td>0.000</td>\n",
       "      <td>...</td>\n",
       "      <td>0.000</td>\n",
       "      <td>0.000</td>\n",
       "      <td>0.000</td>\n",
       "      <td>0.000</td>\n",
       "      <td>0.021</td>\n",
       "      <td>0.000</td>\n",
       "      <td>0.017</td>\n",
       "      <td>0.000</td>\n",
       "      <td>0.024</td>\n",
       "      <td>0.022</td>\n",
       "    </tr>\n",
       "    <tr>\n",
       "      <th>topic4</th>\n",
       "      <td>0.309</td>\n",
       "      <td>0.000</td>\n",
       "      <td>0.000</td>\n",
       "      <td>0.019</td>\n",
       "      <td>0.010</td>\n",
       "      <td>0.000</td>\n",
       "      <td>0.000</td>\n",
       "      <td>0.004</td>\n",
       "      <td>0.001</td>\n",
       "      <td>0.006</td>\n",
       "      <td>...</td>\n",
       "      <td>0.010</td>\n",
       "      <td>0.000</td>\n",
       "      <td>0.000</td>\n",
       "      <td>0.005</td>\n",
       "      <td>0.000</td>\n",
       "      <td>0.000</td>\n",
       "      <td>0.000</td>\n",
       "      <td>0.006</td>\n",
       "      <td>0.000</td>\n",
       "      <td>0.000</td>\n",
       "    </tr>\n",
       "    <tr>\n",
       "      <th>topic5</th>\n",
       "      <td>0.115</td>\n",
       "      <td>0.000</td>\n",
       "      <td>0.000</td>\n",
       "      <td>0.007</td>\n",
       "      <td>0.000</td>\n",
       "      <td>0.000</td>\n",
       "      <td>0.000</td>\n",
       "      <td>0.000</td>\n",
       "      <td>0.000</td>\n",
       "      <td>0.000</td>\n",
       "      <td>...</td>\n",
       "      <td>0.000</td>\n",
       "      <td>0.000</td>\n",
       "      <td>0.009</td>\n",
       "      <td>0.001</td>\n",
       "      <td>0.015</td>\n",
       "      <td>0.000</td>\n",
       "      <td>0.000</td>\n",
       "      <td>0.000</td>\n",
       "      <td>0.036</td>\n",
       "      <td>0.008</td>\n",
       "    </tr>\n",
       "    <tr>\n",
       "      <th>topic6</th>\n",
       "      <td>0.157</td>\n",
       "      <td>0.000</td>\n",
       "      <td>0.000</td>\n",
       "      <td>0.000</td>\n",
       "      <td>0.000</td>\n",
       "      <td>0.034</td>\n",
       "      <td>0.000</td>\n",
       "      <td>0.005</td>\n",
       "      <td>0.000</td>\n",
       "      <td>0.000</td>\n",
       "      <td>...</td>\n",
       "      <td>0.000</td>\n",
       "      <td>0.000</td>\n",
       "      <td>0.000</td>\n",
       "      <td>0.000</td>\n",
       "      <td>0.000</td>\n",
       "      <td>0.000</td>\n",
       "      <td>0.000</td>\n",
       "      <td>0.000</td>\n",
       "      <td>0.000</td>\n",
       "      <td>0.000</td>\n",
       "    </tr>\n",
       "    <tr>\n",
       "      <th>topic7</th>\n",
       "      <td>0.058</td>\n",
       "      <td>0.000</td>\n",
       "      <td>0.000</td>\n",
       "      <td>0.008</td>\n",
       "      <td>0.076</td>\n",
       "      <td>0.000</td>\n",
       "      <td>0.015</td>\n",
       "      <td>0.000</td>\n",
       "      <td>0.073</td>\n",
       "      <td>0.002</td>\n",
       "      <td>...</td>\n",
       "      <td>0.022</td>\n",
       "      <td>0.000</td>\n",
       "      <td>0.007</td>\n",
       "      <td>0.004</td>\n",
       "      <td>0.000</td>\n",
       "      <td>0.000</td>\n",
       "      <td>0.000</td>\n",
       "      <td>0.000</td>\n",
       "      <td>0.002</td>\n",
       "      <td>0.001</td>\n",
       "    </tr>\n",
       "    <tr>\n",
       "      <th>topic8</th>\n",
       "      <td>0.142</td>\n",
       "      <td>0.025</td>\n",
       "      <td>2.783</td>\n",
       "      <td>0.002</td>\n",
       "      <td>0.000</td>\n",
       "      <td>0.000</td>\n",
       "      <td>0.059</td>\n",
       "      <td>0.012</td>\n",
       "      <td>0.000</td>\n",
       "      <td>0.004</td>\n",
       "      <td>...</td>\n",
       "      <td>0.006</td>\n",
       "      <td>0.000</td>\n",
       "      <td>0.034</td>\n",
       "      <td>0.000</td>\n",
       "      <td>0.009</td>\n",
       "      <td>0.007</td>\n",
       "      <td>0.000</td>\n",
       "      <td>0.000</td>\n",
       "      <td>0.000</td>\n",
       "      <td>0.044</td>\n",
       "    </tr>\n",
       "    <tr>\n",
       "      <th>topic9</th>\n",
       "      <td>0.000</td>\n",
       "      <td>0.000</td>\n",
       "      <td>0.000</td>\n",
       "      <td>0.000</td>\n",
       "      <td>0.006</td>\n",
       "      <td>0.000</td>\n",
       "      <td>0.000</td>\n",
       "      <td>0.000</td>\n",
       "      <td>0.000</td>\n",
       "      <td>0.000</td>\n",
       "      <td>...</td>\n",
       "      <td>0.000</td>\n",
       "      <td>0.000</td>\n",
       "      <td>0.001</td>\n",
       "      <td>0.002</td>\n",
       "      <td>0.000</td>\n",
       "      <td>0.000</td>\n",
       "      <td>0.001</td>\n",
       "      <td>0.030</td>\n",
       "      <td>0.000</td>\n",
       "      <td>0.017</td>\n",
       "    </tr>\n",
       "    <tr>\n",
       "      <th>topic10</th>\n",
       "      <td>0.030</td>\n",
       "      <td>0.003</td>\n",
       "      <td>0.000</td>\n",
       "      <td>0.000</td>\n",
       "      <td>0.001</td>\n",
       "      <td>0.000</td>\n",
       "      <td>0.000</td>\n",
       "      <td>0.000</td>\n",
       "      <td>0.000</td>\n",
       "      <td>0.000</td>\n",
       "      <td>...</td>\n",
       "      <td>0.004</td>\n",
       "      <td>0.064</td>\n",
       "      <td>0.007</td>\n",
       "      <td>0.002</td>\n",
       "      <td>0.066</td>\n",
       "      <td>0.002</td>\n",
       "      <td>0.000</td>\n",
       "      <td>0.000</td>\n",
       "      <td>0.038</td>\n",
       "      <td>0.005</td>\n",
       "    </tr>\n",
       "    <tr>\n",
       "      <th>topic11</th>\n",
       "      <td>0.232</td>\n",
       "      <td>0.000</td>\n",
       "      <td>1.026</td>\n",
       "      <td>0.000</td>\n",
       "      <td>0.005</td>\n",
       "      <td>0.000</td>\n",
       "      <td>0.000</td>\n",
       "      <td>0.000</td>\n",
       "      <td>0.000</td>\n",
       "      <td>0.000</td>\n",
       "      <td>...</td>\n",
       "      <td>0.000</td>\n",
       "      <td>0.036</td>\n",
       "      <td>0.000</td>\n",
       "      <td>0.003</td>\n",
       "      <td>0.000</td>\n",
       "      <td>0.000</td>\n",
       "      <td>0.000</td>\n",
       "      <td>0.000</td>\n",
       "      <td>0.000</td>\n",
       "      <td>0.000</td>\n",
       "    </tr>\n",
       "  </tbody>\n",
       "</table>\n",
       "<p>12 rows × 30 columns</p>\n",
       "</div>"
      ],
      "text/plain": [
       "         discussion  disdainful  disease  disgust  disgusting   dish  \\\n",
       "topic0        0.232       0.004    6.028    0.000       0.019  0.000   \n",
       "topic1        0.180       0.000    0.065    0.015       0.007  0.011   \n",
       "topic2        0.088       0.000    0.509    0.014       0.001  0.000   \n",
       "topic3        0.178       0.000    3.368    0.000       0.000  0.000   \n",
       "topic4        0.309       0.000    0.000    0.019       0.010  0.000   \n",
       "topic5        0.115       0.000    0.000    0.007       0.000  0.000   \n",
       "topic6        0.157       0.000    0.000    0.000       0.000  0.034   \n",
       "topic7        0.058       0.000    0.000    0.008       0.076  0.000   \n",
       "topic8        0.142       0.025    2.783    0.002       0.000  0.000   \n",
       "topic9        0.000       0.000    0.000    0.000       0.006  0.000   \n",
       "topic10       0.030       0.003    0.000    0.000       0.001  0.000   \n",
       "topic11       0.232       0.000    1.026    0.000       0.005  0.000   \n",
       "\n",
       "         disinfect  disinfectant  disinvestment  dislike  ...  displacement  \\\n",
       "topic0       0.000         0.000          0.029    0.000  ...         0.000   \n",
       "topic1       0.484         0.010          0.000    0.001  ...         0.000   \n",
       "topic2       0.000         0.000          0.000    0.000  ...         0.001   \n",
       "topic3       0.000         0.010          0.000    0.000  ...         0.000   \n",
       "topic4       0.000         0.004          0.001    0.006  ...         0.010   \n",
       "topic5       0.000         0.000          0.000    0.000  ...         0.000   \n",
       "topic6       0.000         0.005          0.000    0.000  ...         0.000   \n",
       "topic7       0.015         0.000          0.073    0.002  ...         0.022   \n",
       "topic8       0.059         0.012          0.000    0.004  ...         0.006   \n",
       "topic9       0.000         0.000          0.000    0.000  ...         0.000   \n",
       "topic10      0.000         0.000          0.000    0.000  ...         0.004   \n",
       "topic11      0.000         0.000          0.000    0.000  ...         0.000   \n",
       "\n",
       "         display  disposal  disproportionate  disproportionately  dispute  \\\n",
       "topic0     0.082     0.000             0.069               0.038    0.001   \n",
       "topic1     0.000     0.000             0.023               0.070    0.016   \n",
       "topic2     0.000     0.000             0.004               0.000    0.015   \n",
       "topic3     0.000     0.000             0.000               0.021    0.000   \n",
       "topic4     0.000     0.000             0.005               0.000    0.000   \n",
       "topic5     0.000     0.009             0.001               0.015    0.000   \n",
       "topic6     0.000     0.000             0.000               0.000    0.000   \n",
       "topic7     0.000     0.007             0.004               0.000    0.000   \n",
       "topic8     0.000     0.034             0.000               0.009    0.007   \n",
       "topic9     0.000     0.001             0.002               0.000    0.000   \n",
       "topic10    0.064     0.007             0.002               0.066    0.002   \n",
       "topic11    0.036     0.000             0.003               0.000    0.000   \n",
       "\n",
       "         disqualify  disregard  disrespect  disrespectful  \n",
       "topic0        0.000      0.000       0.000          0.000  \n",
       "topic1        0.012      0.009       0.004          0.032  \n",
       "topic2        0.000      0.000       0.000          0.044  \n",
       "topic3        0.017      0.000       0.024          0.022  \n",
       "topic4        0.000      0.006       0.000          0.000  \n",
       "topic5        0.000      0.000       0.036          0.008  \n",
       "topic6        0.000      0.000       0.000          0.000  \n",
       "topic7        0.000      0.000       0.002          0.001  \n",
       "topic8        0.000      0.000       0.000          0.044  \n",
       "topic9        0.001      0.030       0.000          0.017  \n",
       "topic10       0.000      0.000       0.038          0.005  \n",
       "topic11       0.000      0.000       0.000          0.000  \n",
       "\n",
       "[12 rows x 30 columns]"
      ]
     },
     "execution_count": 24,
     "metadata": {},
     "output_type": "execute_result"
    }
   ],
   "source": [
    "topicword_cv1.iloc[:, 1790:1820]"
   ]
  },
  {
   "cell_type": "markdown",
   "metadata": {},
   "source": [
    "To better characterize each topic, I am returning the 10 terms that are most related to each topic, using the function below. For simplicity, I copied the function output and named it below."
   ]
  },
  {
   "cell_type": "code",
   "execution_count": 25,
   "metadata": {
    "ExecuteTime": {
     "end_time": "2020-07-22T17:44:51.100155Z",
     "start_time": "2020-07-22T17:44:51.095953Z"
    }
   },
   "outputs": [],
   "source": [
    "def top_words_per_topic(model, terms, topic_names = None):\n",
    "    for ix, topic in enumerate(nmf_cv.components_):\n",
    "        if not topic_names or not topic_names[ix]:\n",
    "            print(\"\\nTopic \", ix)\n",
    "        else:\n",
    "            print(\"\\nTopic '\",topic_names[ix],\"'\")\n",
    "        print(\", \".join([cv1.get_feature_names()[i] \n",
    "                         for i in topic.argsort()[:-10 - 1:-1]]))"
   ]
  },
  {
   "cell_type": "code",
   "execution_count": 28,
   "metadata": {
    "ExecuteTime": {
     "end_time": "2020-07-22T17:44:59.688775Z",
     "start_time": "2020-07-22T17:44:59.686555Z"
    }
   },
   "outputs": [],
   "source": [
    "#top_words_per_topic(nmf_topics1, cv1.get_feature_names())"
   ]
  },
  {
   "cell_type": "markdown",
   "metadata": {},
   "source": [
    "### Topics and Terms"
   ]
  },
  {
   "cell_type": "markdown",
   "metadata": {},
   "source": [
    "**Covid Mechanics:**  disease, phase, fight, support, information, effort, folk, dr, transmission, save\n",
    "\n",
    "**Reopening Metrics:**  rate, virus, reopen, infection, business, infect, hospitalization, news, mask, covid\n",
    "\n",
    "**Neighborhood Impact:**  business, small, clinic, support, commissioner, neighborhood, barbot, folk, address, crucial\n",
    "\n",
    "**DOH Communication:**  commissioner, information, disease, barbot, okay, folk, symptom, ahead, contact, deputy\n",
    "\n",
    "**Healthcare:**  medicaid, budget, percent, pay, billion, program, cost, local, million, increase\n",
    "\n",
    "**Hospital Needs:**  supply, commissioner, dr, ventilator, katz, clear, personnel, military, barbot, ahead\n",
    "\n",
    "**Education/School:**  kid, chancellor, child, parent, learn, educator, summer, support, moment, tough\n",
    "\n",
    "**Neighborhood Resilience:**  applause, stop, young, save, kid, neighborhood, officer, fight, stand, apartment\n",
    "\n",
    "**Homelessness:**  street, nypd, disease, safe, homeless, commissioner, face, term, police, fight\n",
    "\n",
    "**Hospital Status:**  ventilator, bed, increase, percent, equipment, curve, positive, virus, apex, spread\n",
    "\n",
    "**Hate Crime:**  attack, nation, law, progressive, build, stand, pass, job, history, hate\n",
    "\n",
    "**New Yorkers:**  food, folk, clear, plan, safe, basic, focus, provide, fight, ago"
   ]
  },
  {
   "cell_type": "markdown",
   "metadata": {},
   "source": [
    "### Create Variable for Topic in Dataframe"
   ]
  },
  {
   "cell_type": "markdown",
   "metadata": {},
   "source": [
    "I want to put this all into a dataframe, with the speech transcript information, and the topic."
   ]
  },
  {
   "cell_type": "code",
   "execution_count": 31,
   "metadata": {
    "ExecuteTime": {
     "end_time": "2020-07-21T22:18:43.487801Z",
     "start_time": "2020-07-21T22:18:43.478138Z"
    }
   },
   "outputs": [],
   "source": [
    "ny_docs_topics = ny.loc[:, ['speaker']]"
   ]
  },
  {
   "cell_type": "code",
   "execution_count": 32,
   "metadata": {
    "ExecuteTime": {
     "end_time": "2020-07-21T22:18:43.832520Z",
     "start_time": "2020-07-21T22:18:43.824549Z"
    }
   },
   "outputs": [
    {
     "data": {
      "text/html": [
       "<div>\n",
       "<style scoped>\n",
       "    .dataframe tbody tr th:only-of-type {\n",
       "        vertical-align: middle;\n",
       "    }\n",
       "\n",
       "    .dataframe tbody tr th {\n",
       "        vertical-align: top;\n",
       "    }\n",
       "\n",
       "    .dataframe thead th {\n",
       "        text-align: right;\n",
       "    }\n",
       "</style>\n",
       "<table border=\"1\" class=\"dataframe\">\n",
       "  <thead>\n",
       "    <tr style=\"text-align: right;\">\n",
       "      <th></th>\n",
       "      <th>speaker</th>\n",
       "    </tr>\n",
       "  </thead>\n",
       "  <tbody>\n",
       "    <tr>\n",
       "      <th>0</th>\n",
       "      <td>cuomo</td>\n",
       "    </tr>\n",
       "    <tr>\n",
       "      <th>1</th>\n",
       "      <td>cuomo</td>\n",
       "    </tr>\n",
       "    <tr>\n",
       "      <th>2</th>\n",
       "      <td>cuomo</td>\n",
       "    </tr>\n",
       "    <tr>\n",
       "      <th>3</th>\n",
       "      <td>cuomo</td>\n",
       "    </tr>\n",
       "    <tr>\n",
       "      <th>4</th>\n",
       "      <td>cuomo</td>\n",
       "    </tr>\n",
       "    <tr>\n",
       "      <th>...</th>\n",
       "      <td>...</td>\n",
       "    </tr>\n",
       "    <tr>\n",
       "      <th>390</th>\n",
       "      <td>de blasio</td>\n",
       "    </tr>\n",
       "    <tr>\n",
       "      <th>391</th>\n",
       "      <td>de blasio</td>\n",
       "    </tr>\n",
       "    <tr>\n",
       "      <th>392</th>\n",
       "      <td>de blasio</td>\n",
       "    </tr>\n",
       "    <tr>\n",
       "      <th>393</th>\n",
       "      <td>de blasio</td>\n",
       "    </tr>\n",
       "    <tr>\n",
       "      <th>394</th>\n",
       "      <td>de blasio</td>\n",
       "    </tr>\n",
       "  </tbody>\n",
       "</table>\n",
       "<p>395 rows × 1 columns</p>\n",
       "</div>"
      ],
      "text/plain": [
       "       speaker\n",
       "0        cuomo\n",
       "1        cuomo\n",
       "2        cuomo\n",
       "3        cuomo\n",
       "4        cuomo\n",
       "..         ...\n",
       "390  de blasio\n",
       "391  de blasio\n",
       "392  de blasio\n",
       "393  de blasio\n",
       "394  de blasio\n",
       "\n",
       "[395 rows x 1 columns]"
      ]
     },
     "execution_count": 32,
     "metadata": {},
     "output_type": "execute_result"
    }
   ],
   "source": [
    "ny_docs_topics"
   ]
  },
  {
   "cell_type": "code",
   "execution_count": 33,
   "metadata": {
    "ExecuteTime": {
     "end_time": "2020-07-21T22:18:44.426895Z",
     "start_time": "2020-07-21T22:18:44.423039Z"
    }
   },
   "outputs": [],
   "source": [
    "ny_docs_topics['topics12'] = nmf_topics1.argmax(axis = 1) #this is an array of which topic each document belongs to. "
   ]
  },
  {
   "cell_type": "markdown",
   "metadata": {},
   "source": [
    "Given these topics, I wanted to understand how speakers engaged with each topic, so I looked at overall counts by topic, and then split it up by speaker."
   ]
  },
  {
   "cell_type": "code",
   "execution_count": 34,
   "metadata": {
    "ExecuteTime": {
     "end_time": "2020-07-21T22:18:45.542717Z",
     "start_time": "2020-07-21T22:18:45.500803Z"
    }
   },
   "outputs": [],
   "source": [
    "speaker_topics = pd.DataFrame(ny_docs_topics.groupby(['topics12']).speaker.value_counts())\n",
    "speaker_topics.columns = ['count']\n",
    "speaker_topics.reset_index()\n",
    "speaker_topics_pivot = speaker_topics.reset_index().pivot_table(index = 'topics12', columns = 'speaker', values = 'count', fill_value = 0).reset_index(drop = True)\n",
    "speaker_topics_pivot['total'] = speaker_topics_pivot['cuomo'] + speaker_topics_pivot['de blasio']\n",
    "speaker_topics_pivot.sort_values('total', inplace = True)"
   ]
  },
  {
   "cell_type": "code",
   "execution_count": 39,
   "metadata": {
    "ExecuteTime": {
     "end_time": "2020-07-21T22:21:40.408811Z",
     "start_time": "2020-07-21T22:21:40.182432Z"
    }
   },
   "outputs": [
    {
     "data": {
      "image/png": "[encoded data removed]",
      "text/plain": [
       "<Figure size 576x432 with 1 Axes>"
      ]
     },
     "metadata": {
      "needs_background": "light"
     },
     "output_type": "display_data"
    }
   ],
   "source": [
    "plt.figure(figsize = (8, 6))\n",
    "names = list(set(speaker_topics_pivot.index))\n",
    "barWidth= 0.85\n",
    "plt.title('Reopening, Hospital Status, and Hospital Needs \\n Addressed Most in Documents')\n",
    "plt.xlabel('Count of Documents About Topic')\n",
    "plt.xlim(0, 80)\n",
    "plt.barh(names, speaker_topics_pivot['total'], color='#67a9cf', edgecolor='white', height=barWidth)\n",
    "plt.yticks(range(0, 12), ['Neighborhood Impact', 'Covid Mechanics', 'Healthcare', 'Education/School', \n",
    "                         'Neighborhood Resilience', 'Homelessness', 'DOH Communication', 'New Yorkers',\n",
    "                         'Hate Crime', 'Hospital Needs', 'Hospital Status', 'Reopening Metrics'])\n",
    "plt.tight_layout()\n",
    "plt.savefig('topics.pdf');"
   ]
  },
  {
   "cell_type": "markdown",
   "metadata": {},
   "source": [
    "The topic that appears most frequently relates to metrics for reopening. This includes terms like rate, virus, reopen, infection, business, infect, and hospitalization. This makes sense, since at the end of May, counties were getting ready to re-open, and metrics were being monitored to determine readiness for Phase 1. "
   ]
  },
  {
   "cell_type": "code",
   "execution_count": 40,
   "metadata": {
    "ExecuteTime": {
     "end_time": "2020-07-21T23:04:53.442084Z",
     "start_time": "2020-07-21T23:04:53.117557Z"
    }
   },
   "outputs": [
    {
     "data": {
      "image/png": "[encoded data removed]",
      "text/plain": [
       "<Figure size 576x432 with 1 Axes>"
      ]
     },
     "metadata": {
      "needs_background": "light"
     },
     "output_type": "display_data"
    }
   ],
   "source": [
    "plt.figure(figsize = (8, 6))\n",
    "names = list(set(speaker_topics_pivot.index))\n",
    "barWidth= 0.85\n",
    "plt.title('Speakers Cover Different Topics')\n",
    "plt.xlabel('Count of Documents About Topic')\n",
    "plt.xlim(0, 80)\n",
    "plt.barh(names, speaker_topics_pivot['cuomo'], color='#67a9cf', edgecolor='white', height=barWidth, label = 'Cuomo')\n",
    "plt.barh(names, speaker_topics_pivot['de blasio'], left =speaker_topics_pivot['cuomo'], color='#ef8a62', edgecolor='white', height=barWidth, label = 'de Blasio')\n",
    "plt.yticks(range(0, 12), ['Neighborhood Impact', 'Covid Mechanics', 'Healthcare', 'Education/School', \n",
    "                         'Neighborhood Resilience', 'Homelessness', 'DOH Communication', 'New Yorkers',\n",
    "                         'Hate Crime', 'Hospital Needs', 'Hospital Status', 'Reopening Metrics'])\n",
    "plt.legend()\n",
    "plt.tight_layout()\n",
    "plt.savefig('speaker_topics.pdf');"
   ]
  },
  {
   "cell_type": "markdown",
   "metadata": {},
   "source": [
    "Reopening is purely a Cuomo topic, which also makes sense - at the end of May, the only counties that have reopened are outside of NYC. Cuomo has also started a lot of his speeches by giving statistics relevant to reopening. de Blasio dominates the topic of hospital needs, whereas Cuomo discusses the status of hospitals. These describe different things, where Cuomo's speeches tend of involve updates on ventilators, beds and equipment available, and de Blasio addresses what NYC hospitals are missing: personnel, supplies, and ventilators. They are both covering hospitals in slightly different ways."
   ]
  },
  {
   "cell_type": "markdown",
   "metadata": {},
   "source": [
    "## Parts of Speech Analysis"
   ]
  },
  {
   "cell_type": "markdown",
   "metadata": {},
   "source": [
    "Now I want to take a closer look at how they are speaking about certain topics. I used spaCy to analyze parts of speech, looking at adjective modifiers to understand how both speakers are talking about testing, hospitals, New Yorkers, the government, and care."
   ]
  },
  {
   "cell_type": "code",
   "execution_count": 21,
   "metadata": {
    "ExecuteTime": {
     "end_time": "2020-07-21T01:51:25.158481Z",
     "start_time": "2020-07-21T01:51:25.154065Z"
    }
   },
   "outputs": [],
   "source": [
    "cuomo_speeches = ny[ny.speaker == 'cuomo']\n",
    "de_blasio_speeches = ny[ny.speaker == 'de blasio']"
   ]
  },
  {
   "cell_type": "code",
   "execution_count": 22,
   "metadata": {
    "ExecuteTime": {
     "end_time": "2020-07-21T01:51:26.814922Z",
     "start_time": "2020-07-21T01:51:26.810699Z"
    }
   },
   "outputs": [],
   "source": [
    "def get_amods(noun, ser):\n",
    "    amod_list = []\n",
    "    for doc in ser:\n",
    "        for token in doc:\n",
    "            if (token.text) == noun:\n",
    "                for child in token.children:\n",
    "                    if child.dep == amod:\n",
    "                        amod_list.append(child.text.lower())\n",
    "    return sorted(amod_list)"
   ]
  },
  {
   "cell_type": "code",
   "execution_count": 23,
   "metadata": {
    "ExecuteTime": {
     "end_time": "2020-07-21T01:51:28.100552Z",
     "start_time": "2020-07-21T01:51:28.098014Z"
    }
   },
   "outputs": [],
   "source": [
    "def amods_returnlist(noun, speaker_speeches):\n",
    "    return get_amods(noun, speaker_speeches.spacy_monologue)"
   ]
  },
  {
   "cell_type": "markdown",
   "metadata": {},
   "source": [
    "### \"Testing\""
   ]
  },
  {
   "cell_type": "code",
   "execution_count": 24,
   "metadata": {
    "ExecuteTime": {
     "end_time": "2020-07-21T01:51:31.470513Z",
     "start_time": "2020-07-21T01:51:30.850568Z"
    }
   },
   "outputs": [
    {
     "name": "stdout",
     "output_type": "stream",
     "text": [
      "Cuomo - Top Adjective Modifiers: [('more', 26), ('automated', 16), ('diagnostic', 14), ('own', 9)]\n",
      "de Blasio - Top Adjective Modifiers\": [('more', 70), ('widespread', 25), ('diagnostic', 14), ('automated', 10)]\n"
     ]
    }
   ],
   "source": [
    "print('Cuomo - Top Adjective Modifiers:', Counter(amods_returnlist('testing', cuomo_speeches))\n",
    "      .most_common(4))\n",
    "print('de Blasio - Top Adjective Modifiers\":', Counter(amods_returnlist('testing', de_blasio_speeches))\n",
    "      .most_common(4))"
   ]
  },
  {
   "cell_type": "markdown",
   "metadata": {},
   "source": [
    "There are a lot of similarities in how they describe testing: they both want more of it, they want it automated, and they want diagnostic testing."
   ]
  },
  {
   "cell_type": "markdown",
   "metadata": {},
   "source": [
    "### \"Hospital\""
   ]
  },
  {
   "cell_type": "code",
   "execution_count": 25,
   "metadata": {
    "ExecuteTime": {
     "end_time": "2020-07-21T01:51:33.979847Z",
     "start_time": "2020-07-21T01:51:33.355387Z"
    }
   },
   "outputs": [
    {
     "name": "stdout",
     "output_type": "stream",
     "text": [
      "Cuomo - Top Adjective Modifiers: [('public', 6), ('temporary', 3)]\n",
      "de Blasio - Top Adjective Modifiers: [('elmhurst', 44), ('public', 37)]\n"
     ]
    }
   ],
   "source": [
    "print('Cuomo - Top Adjective Modifiers:', Counter(amods_returnlist('hospital', cuomo_speeches))\n",
    "      .most_common(2))\n",
    "print('de Blasio - Top Adjective Modifiers:', Counter(amods_returnlist('hospital', de_blasio_speeches))\n",
    "      .most_common(2))"
   ]
  },
  {
   "cell_type": "markdown",
   "metadata": {},
   "source": [
    "They both describe public hospitals, with de Blasio emphasizing Elmhurst, where a lot of Covid-19 cases were taken."
   ]
  },
  {
   "cell_type": "markdown",
   "metadata": {},
   "source": [
    "### \"Yorkers\""
   ]
  },
  {
   "cell_type": "code",
   "execution_count": 26,
   "metadata": {
    "ExecuteTime": {
     "end_time": "2020-07-21T01:51:36.038207Z",
     "start_time": "2020-07-21T01:51:35.434402Z"
    }
   },
   "outputs": [
    {
     "name": "stdout",
     "output_type": "stream",
     "text": [
      "Cuomo - Top Adjective Modifiers: [('new', 234), ('many', 6), ('elderly', 2), ('fewer', 2), ('best', 1), ('connected', 1), ('correct', 1), ('enough', 1), ('fellow', 1), ('first', 1)]\n",
      "de Blasio - Top Adjective Modifiers: [('new', 1239), ('fellow', 55), ('many', 45), ('everyday', 42), ('homeless', 15), ('more', 13), ('most', 4), ('vulnerable', 4), ('other', 3), ('working', 3)]\n"
     ]
    }
   ],
   "source": [
    "print('Cuomo - Top Adjective Modifiers:', Counter(amods_returnlist('yorkers', cuomo_speeches))\n",
    "      .most_common(10))\n",
    "print('de Blasio - Top Adjective Modifiers:', Counter(amods_returnlist('yorkers', de_blasio_speeches))\n",
    "      .most_common(10))"
   ]
  },
  {
   "cell_type": "markdown",
   "metadata": {},
   "source": [
    "They describe different populations of New Yorkers: Cuomo focuses more on the elderly, and de Blasio spends more time discussing the homeless, vulnerable, and working class New Yorkers. "
   ]
  },
  {
   "cell_type": "markdown",
   "metadata": {},
   "source": [
    "### \"Government\""
   ]
  },
  {
   "cell_type": "code",
   "execution_count": 27,
   "metadata": {
    "ExecuteTime": {
     "end_time": "2020-07-21T01:51:40.470764Z",
     "start_time": "2020-07-21T01:51:39.858417Z"
    }
   },
   "outputs": [
    {
     "name": "stdout",
     "output_type": "stream",
     "text": [
      "Cuomo - Top Adjective Modifiers: [('federal', 455), ('local', 22), ('progressive', 14), ('best', 3), ('active', 2), ('competent', 2), ('effective', 2), ('proper', 2), ('right', 2), ('thefederal', 2)]\n",
      "de Blasio - Top Adjective Modifiers: [('federal', 593), ('national', 10), ('local', 6), ('entire', 3), ('american', 2), ('chinese', 2), ('iranian', 2), ('whole', 2), ('blown', 1), ('fight', 1)]\n"
     ]
    }
   ],
   "source": [
    "print('Cuomo - Top Adjective Modifiers:', Counter(amods_returnlist('government', cuomo_speeches))\n",
    "      .most_common(10))\n",
    "print('de Blasio - Top Adjective Modifiers:', Counter(amods_returnlist('government', de_blasio_speeches))\n",
    "      .most_common(10))"
   ]
  },
  {
   "cell_type": "markdown",
   "metadata": {},
   "source": [
    "They both talk at length about the federal government, though Cuomo's assessment of the government tends to be a lot more positive than de Blasio's."
   ]
  },
  {
   "cell_type": "markdown",
   "metadata": {},
   "source": [
    "### \"Care\""
   ]
  },
  {
   "cell_type": "code",
   "execution_count": 28,
   "metadata": {
    "ExecuteTime": {
     "end_time": "2020-07-21T01:51:44.240540Z",
     "start_time": "2020-07-21T01:51:43.610267Z"
    }
   },
   "outputs": [
    {
     "name": "stdout",
     "output_type": "stream",
     "text": [
      "Cuomo - Top Adjective Modifiers: [('appropriate', 6), ('intensive', 6), ('medical', 4), ('acute', 3), ('ambulatory', 2), ('alternative', 1), ('best', 1), ('compassionate', 1), ('good', 1), ('major', 1)]\n",
      "de Blasio - Top Adjective Modifiers: [('medical', 28), ('universal', 13), ('urgent', 11), ('available', 10), ('intensive', 9), ('public', 8), ('guaranteed', 6), ('less', 5), ('more', 5), ('immediate', 4)]\n"
     ]
    }
   ],
   "source": [
    "print('Cuomo - Top Adjective Modifiers:', Counter(amods_returnlist('care', cuomo_speeches))\n",
    "      .most_common(10))\n",
    "print('de Blasio - Top Adjective Modifiers:', Counter(amods_returnlist('care', de_blasio_speeches))\n",
    "      .most_common(10))"
   ]
  },
  {
   "cell_type": "markdown",
   "metadata": {},
   "source": [
    "de Blasio focuses on universal and available public care, whereas Cuomo focuses on appropraite and intensive care."
   ]
  },
  {
   "cell_type": "markdown",
   "metadata": {},
   "source": [
    "The parts-of-speech analysis highlights de Blasio's progressive roots, with his focus on working class New Yorkers, and the need for universal, public health care. "
   ]
  },
  {
   "cell_type": "code",
   "execution_count": null,
   "metadata": {},
   "outputs": [],
   "source": []
  }
 ],
 "metadata": {
  "kernelspec": {
   "display_name": "Python [conda env:metis] *",
   "language": "python",
   "name": "conda-env-metis-py"
  },
  "language_info": {
   "codemirror_mode": {
    "name": "ipython",
    "version": 3
   },
   "file_extension": ".py",
   "mimetype": "text/x-python",
   "name": "python",
   "nbconvert_exporter": "python",
   "pygments_lexer": "ipython3",
   "version": "3.7.4"
  },
  "toc": {
   "base_numbering": 1,
   "nav_menu": {},
   "number_sections": false,
   "sideBar": true,
   "skip_h1_title": true,
   "title_cell": "Table of Contents",
   "title_sidebar": "Contents",
   "toc_cell": false,
   "toc_position": {
    "height": "calc(100% - 180px)",
    "left": "10px",
    "top": "150px",
    "width": "165px"
   },
   "toc_section_display": true,
   "toc_window_display": false
  }
 },
 "nbformat": 4,
 "nbformat_minor": 4
}
