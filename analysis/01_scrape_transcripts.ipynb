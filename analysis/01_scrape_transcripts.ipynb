{
 "cells": [
  {
   "cell_type": "markdown",
   "metadata": {},
   "source": [
    "# Notebook 1: Get Page Source for Official Speech Transcripts"
   ]
  },
  {
   "cell_type": "markdown",
   "metadata": {},
   "source": [
    "### Introduction"
   ]
  },
  {
   "cell_type": "markdown",
   "metadata": {},
   "source": [
    "This notebook scrapes the websites for both Mayor deBlasio and Governor Cuomo to retrieve transcripts of their official speeches, dating back to the beginning of 2020, before Covid-19 hit New York City. The original data were scraped in May 2020, yielding around five months of transcripts. *Because the websites have since been updated with more recent speeches, this code will yield a different set of speeches (or may not work) if it is run as-is.*"
   ]
  },
  {
   "cell_type": "code",
   "execution_count": null,
   "metadata": {},
   "outputs": [],
   "source": [
    "from bs4 import BeautifulSoup\n",
    "import requests\n",
    "import pandas as pd\n",
    "from selenium import webdriver\n",
    "from selenium.webdriver.common.keys import Keys\n",
    "import time, os\n",
    "import re\n",
    "import pickle\n",
    "import sys\n",
    "\n",
    "sys.setrecursionlimit(10000) #to allow pickling\n",
    "chromedriver = \"/Applications/chromedriver\" \n",
    "os.environ[\"webdriver.chrome.driver\"] = chromedriver"
   ]
  },
  {
   "cell_type": "markdown",
   "metadata": {},
   "source": [
    "### Scrape Mayor de Blasio's website"
   ]
  },
  {
   "cell_type": "markdown",
   "metadata": {},
   "source": [
    "I scraped 40 pages of Mayor de Blasio's speech transcripts, resulting in speeches dating back to November 2019. These are later excluded. I started by scraping the urls from the main speech transcripts page, and then scraping the content of each url. "
   ]
  },
  {
   "cell_type": "code",
   "execution_count": null,
   "metadata": {},
   "outputs": [],
   "source": [
    "list_urls = []\n",
    "for i in range(1, 41):\n",
    "    full_url = 'https://www1.nyc.gov/office-of-the-mayor/news.page' + '#page-' + str(i)\n",
    "    list_urls.append(full_url)"
   ]
  },
  {
   "cell_type": "code",
   "execution_count": null,
   "metadata": {},
   "outputs": [],
   "source": [
    "def get_source(urls):\n",
    "    driver = webdriver.Chrome(chromedriver)\n",
    "    soup_list = []\n",
    "    for i in urls:\n",
    "        driver.get(i)\n",
    "        driver.refresh()\n",
    "        time.sleep(5)\n",
    "        soup_list.append(BeautifulSoup(driver.page_source, 'html.parser'))\n",
    "    driver.close()\n",
    "    return soup_list"
   ]
  },
  {
   "cell_type": "code",
   "execution_count": null,
   "metadata": {},
   "outputs": [],
   "source": [
    "# Scrape source for each page of main speech transcripts\n",
    "soups = get_source(list_urls)"
   ]
  },
  {
   "cell_type": "code",
   "execution_count": null,
   "metadata": {},
   "outputs": [],
   "source": [
    "def get_links(soup_object):\n",
    "    links_list = []\n",
    "    for s in soup_object:\n",
    "        links = s.find_all('a', {'href': re.compile(r'transcript')})\n",
    "        for i in links:\n",
    "            link1 = str(i).replace('\"', '')\n",
    "            if re.search('=(.+)>T', link1) is not None:\n",
    "                link = re.search('=(.+)>T', link1).group(1)\n",
    "            else:\n",
    "                continue\n",
    "            full_link = 'https://www1.nyc.gov' + link\n",
    "            links_list.append(full_link)\n",
    "    return links_list"
   ]
  },
  {
   "cell_type": "code",
   "execution_count": null,
   "metadata": {},
   "outputs": [],
   "source": [
    "# Extract links to each page of speech transcripts\n",
    "link_list = get_links(soups)"
   ]
  },
  {
   "cell_type": "code",
   "execution_count": null,
   "metadata": {},
   "outputs": [],
   "source": [
    "# Save links to each page\n",
    "# with open('data/bdblinks_519.pickle', 'wb') as to_write:\n",
    "#     pickle.dump(link_list, to_write)"
   ]
  },
  {
   "cell_type": "code",
   "execution_count": null,
   "metadata": {},
   "outputs": [],
   "source": [
    "def get_transcript_source(urls):\n",
    "    driver = webdriver.Chrome(chromedriver)\n",
    "    doc_source = []\n",
    "    for i in urls:\n",
    "        driver.get(i)\n",
    "        time.sleep(5)\n",
    "        doc_source.append(BeautifulSoup(driver.page_source, 'html.parser'))\n",
    "    driver.close()\n",
    "    return doc_source"
   ]
  },
  {
   "cell_type": "code",
   "execution_count": null,
   "metadata": {},
   "outputs": [],
   "source": [
    "# Get source for each speech transcript\n",
    "transcript_sources = get_transcript_source(link_list)"
   ]
  },
  {
   "cell_type": "code",
   "execution_count": null,
   "metadata": {},
   "outputs": [],
   "source": [
    "# Save source for each transcript\n",
    "# with open('data/bdbsource_519.pickle', 'wb') as to_write:\n",
    "#     pickle.dump(transcript_sources, to_write)"
   ]
  },
  {
   "cell_type": "markdown",
   "metadata": {},
   "source": [
    "### Scrape Governor Cuomo's website"
   ]
  },
  {
   "cell_type": "markdown",
   "metadata": {},
   "source": [
    "I scraped ~20 pages of Governor Cuomos's speech transcripts. Similarly to my approach to scraping Mayor de Blasio's speeches, I started by scraping the urls from the main speech transcripts page, and then scraping the content of each url. "
   ]
  },
  {
   "cell_type": "code",
   "execution_count": null,
   "metadata": {},
   "outputs": [],
   "source": [
    "url = 'https://www.governor.ny.gov/keywords/media'"
   ]
  },
  {
   "cell_type": "code",
   "execution_count": null,
   "metadata": {},
   "outputs": [],
   "source": [
    "def get_source(urls):\n",
    "    driver = webdriver.Chrome(chromedriver)\n",
    "    soup_list = []\n",
    "    driver.get(url)\n",
    "    driver.refresh()\n",
    "    time.sleep(5)\n",
    "    soup_list.append(BeautifulSoup(driver.page_source, 'html.parser'))\n",
    "    pages = list(range(2,9)) + ([4] * 12) #because the xpath stops corresponding with page number after page 8\n",
    "    for i in pages:\n",
    "        path = '//*[@id=\"DataTables_Table_0_paginate\"]/span/a[' + str(i) + ']'\n",
    "        driver.find_element_by_xpath(path).click()\n",
    "        time.sleep(5)\n",
    "        soup_list.append(BeautifulSoup(driver.page_source, 'html.parser'))\n",
    "    driver.close()\n",
    "    return soup_list"
   ]
  },
  {
   "cell_type": "code",
   "execution_count": null,
   "metadata": {},
   "outputs": [],
   "source": [
    "# Scrape source for each page of main speech transcripts\n",
    "sources = get_source(url)"
   ]
  },
  {
   "cell_type": "code",
   "execution_count": null,
   "metadata": {},
   "outputs": [],
   "source": [
    "def get_links(soup_object):\n",
    "    links_list = []\n",
    "    for s in soup_object:\n",
    "        links = s.find_all('a', {'href': re.compile(r'transcript')})\n",
    "        for i in links:\n",
    "            link1 = str(i).replace('\"', '')\n",
    "            if re.search('=(.+)>\\n', link1) is not None:\n",
    "                link = re.search('=(.+)>\\n', link1).group(1)\n",
    "            else:\n",
    "                continue\n",
    "            full_link = 'https://www.governor.ny.gov' + link\n",
    "            links_list.append(full_link)\n",
    "    return list(set(links_list))"
   ]
  },
  {
   "cell_type": "code",
   "execution_count": null,
   "metadata": {},
   "outputs": [],
   "source": [
    "# Extract links to each page of speech transcripts\n",
    "link_list = get_links(sources)"
   ]
  },
  {
   "cell_type": "code",
   "execution_count": null,
   "metadata": {},
   "outputs": [],
   "source": [
    "# Save links to each page\n",
    "# with open('data/cuomolinks_519.pickle', 'wb') as to_write:\n",
    "#     pickle.dump(link_list, to_write)"
   ]
  },
  {
   "cell_type": "code",
   "execution_count": null,
   "metadata": {},
   "outputs": [],
   "source": [
    "def get_transcript_source(urls):\n",
    "    driver = webdriver.Chrome(chromedriver)\n",
    "    doc_source = []\n",
    "    for i in urls:\n",
    "        driver.get(i)\n",
    "        time.sleep(5)\n",
    "        doc_source.append(BeautifulSoup(driver.page_source, 'html.parser'))\n",
    "    driver.close()\n",
    "    return doc_source"
   ]
  },
  {
   "cell_type": "code",
   "execution_count": null,
   "metadata": {},
   "outputs": [],
   "source": [
    "# Get source for each speech transcript\n",
    "transcript_sources = get_transcript_source(link_list)"
   ]
  },
  {
   "cell_type": "code",
   "execution_count": null,
   "metadata": {},
   "outputs": [],
   "source": [
    "# Save source for each transcript\n",
    "# with open('data/cuomosource_519.pickle', 'wb') as to_write:\n",
    "#     pickle.dump(transcript_sources, to_write)"
   ]
  },
  {
   "cell_type": "code",
   "execution_count": null,
   "metadata": {},
   "outputs": [],
   "source": []
  },
  {
   "cell_type": "code",
   "execution_count": null,
   "metadata": {},
   "outputs": [],
   "source": []
  }
 ],
 "metadata": {
  "kernelspec": {
   "display_name": "Python [conda env:metis] *",
   "language": "python",
   "name": "conda-env-metis-py"
  },
  "language_info": {
   "codemirror_mode": {
    "name": "ipython",
    "version": 3
   },
   "file_extension": ".py",
   "mimetype": "text/x-python",
   "name": "python",
   "nbconvert_exporter": "python",
   "pygments_lexer": "ipython3",
   "version": "3.7.4"
  },
  "toc": {
   "base_numbering": 1,
   "nav_menu": {},
   "number_sections": false,
   "sideBar": true,
   "skip_h1_title": true,
   "title_cell": "Table of Contents",
   "title_sidebar": "Contents",
   "toc_cell": false,
   "toc_position": {
    "height": "calc(100% - 180px)",
    "left": "10px",
    "top": "150px",
    "width": "207.986px"
   },
   "toc_section_display": true,
   "toc_window_display": true
  }
 },
 "nbformat": 4,
 "nbformat_minor": 4
}
