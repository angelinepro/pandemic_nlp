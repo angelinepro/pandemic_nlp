{
 "cells": [
  {
   "cell_type": "markdown",
   "metadata": {},
   "source": [
    "# Notebook 3: Combine Transcripts for Mayor de Blasio and Governor Cuomo"
   ]
  },
  {
   "cell_type": "markdown",
   "metadata": {},
   "source": [
    "### Introduction"
   ]
  },
  {
   "cell_type": "markdown",
   "metadata": {},
   "source": [
    "This is a very short notebook, focusing on combining the cleaned transcript data from both speakers created in Notebook 2."
   ]
  },
  {
   "cell_type": "code",
   "execution_count": 1,
   "metadata": {
    "ExecuteTime": {
     "end_time": "2020-07-21T17:59:52.627659Z",
     "start_time": "2020-07-21T17:59:51.550102Z"
    }
   },
   "outputs": [],
   "source": [
    "import pickle\n",
    "import pandas as pd\n",
    "import numpy as np"
   ]
  },
  {
   "cell_type": "code",
   "execution_count": 2,
   "metadata": {
    "ExecuteTime": {
     "end_time": "2020-07-21T17:59:53.345010Z",
     "start_time": "2020-07-21T17:59:53.299187Z"
    }
   },
   "outputs": [],
   "source": [
    "with open('../data/cuomotranscript_519.pickle','rb') as read_file:\n",
    "    cuomo = pickle.load(read_file)\n",
    "with open('../data/bdbtranscript_519.pickle','rb') as read_file:\n",
    "    deblasio = pickle.load(read_file)  "
   ]
  },
  {
   "cell_type": "markdown",
   "metadata": {},
   "source": [
    "### Combine Transcripts"
   ]
  },
  {
   "cell_type": "code",
   "execution_count": 3,
   "metadata": {
    "ExecuteTime": {
     "end_time": "2020-07-21T01:42:34.298554Z",
     "start_time": "2020-07-21T01:42:34.271886Z"
    }
   },
   "outputs": [],
   "source": [
    "ny = pd.concat([cuomo, deblasio], axis = 0).reset_index(drop=True)"
   ]
  },
  {
   "cell_type": "code",
   "execution_count": 4,
   "metadata": {
    "ExecuteTime": {
     "end_time": "2020-07-21T01:42:34.306421Z",
     "start_time": "2020-07-21T01:42:34.299937Z"
    }
   },
   "outputs": [
    {
     "name": "stdout",
     "output_type": "stream",
     "text": [
      "<class 'pandas.core.frame.DataFrame'>\n",
      "RangeIndex: 395 entries, 0 to 394\n",
      "Data columns (total 5 columns):\n",
      " #   Column     Non-Null Count  Dtype         \n",
      "---  ------     --------------  -----         \n",
      " 0   speaker    395 non-null    object        \n",
      " 1   date       395 non-null    datetime64[ns]\n",
      " 2   link       395 non-null    object        \n",
      " 3   text       395 non-null    object        \n",
      " 4   monologue  395 non-null    object        \n",
      "dtypes: datetime64[ns](1), object(4)\n",
      "memory usage: 15.6+ KB\n"
     ]
    }
   ],
   "source": [
    "ny.info()"
   ]
  },
  {
   "cell_type": "markdown",
   "metadata": {},
   "source": [
    "### Pickle Resulting Dataframe"
   ]
  },
  {
   "cell_type": "code",
   "execution_count": 5,
   "metadata": {
    "ExecuteTime": {
     "end_time": "2020-07-21T01:42:34.354557Z",
     "start_time": "2020-07-21T01:42:34.307986Z"
    }
   },
   "outputs": [],
   "source": [
    "# with open('../data/combined.pickle', 'wb') as to_write:\n",
    "#     pickle.dump(ny, to_write)"
   ]
  },
  {
   "cell_type": "code",
   "execution_count": null,
   "metadata": {},
   "outputs": [],
   "source": []
  }
 ],
 "metadata": {
  "kernelspec": {
   "display_name": "Python [conda env:metis] *",
   "language": "python",
   "name": "conda-env-metis-py"
  },
  "language_info": {
   "codemirror_mode": {
    "name": "ipython",
    "version": 3
   },
   "file_extension": ".py",
   "mimetype": "text/x-python",
   "name": "python",
   "nbconvert_exporter": "python",
   "pygments_lexer": "ipython3",
   "version": "3.7.4"
  },
  "toc": {
   "base_numbering": 1,
   "nav_menu": {},
   "number_sections": false,
   "sideBar": true,
   "skip_h1_title": true,
   "title_cell": "Table of Contents",
   "title_sidebar": "Contents",
   "toc_cell": false,
   "toc_position": {
    "height": "calc(100% - 180px)",
    "left": "10px",
    "top": "150px",
    "width": "207.986px"
   },
   "toc_section_display": true,
   "toc_window_display": true
  }
 },
 "nbformat": 4,
 "nbformat_minor": 4
}
